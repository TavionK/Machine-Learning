{
  "cells": [
    {
      "cell_type": "markdown",
      "metadata": {
        "id": "view-in-github",
        "colab_type": "text"
      },
      "source": [
        "<a href=\"https://colab.research.google.com/github/TavionK/Machine-Learning/blob/main/labs/numpy1.ipynb\" target=\"_parent\"><img src=\"https://colab.research.google.com/assets/colab-badge.svg\" alt=\"Open In Colab\"/></a>"
      ]
    },
    {
      "cell_type": "markdown",
      "metadata": {
        "id": "Mqjgffmy7qiy"
      },
      "source": [
        "# Task 1: Getting started with Numpy\n",
        "\n",
        "Let's spend a few minutes just learning some of the fundamentals of Numpy. (pronounced as num-pie **not num-pee**) \n",
        "\n",
        "### what is numpy\n",
        "Numpy is a Python library that support large, multi-dimensional arrays and matrices. \n",
        "\n",
        "Let's look at an example. Suppose we start with a little table:\n",
        "\n",
        "| a  | b | c  |  d | e |\n",
        "| :---: | :---: | :---: | :---: | :---: |\n",
        "| 0 | 1 | 2 | 3 | 4 |\n",
        "|10| 11| 12 | 13 | 14|\n",
        "|20| 21 | 22 | 23 | 24 |\n",
        "|30 | 31 | 32 | 33 | 34 |\n",
        "|40 |41 | 42 | 43 | 44 |\n",
        "\n",
        "and I simply want to add 10 to each cell:\n",
        "\n",
        "| a  | b | c  |  d | e |\n",
        "| :---: | :---: | :---: | :---: | :---: |\n",
        "| 10 | 11 | 12 | 13 | 14 |\n",
        "|20| 21| 22 | 23 | 24|\n",
        "|30| 31 | 32 | 33 | 34 |\n",
        "|40 | 41 | 42 | 43 | 44 |\n",
        "|50 |51 | 52 | 53 | 54 |\n",
        "\n",
        "To make things interesting, instead of a a 5 x5 array, let's make it 1,000x1,000 -- so 1 million cells!\n",
        "\n",
        "First, let's construct it in generic Python"
      ]
    },
    {
      "cell_type": "code",
      "execution_count": 5,
      "metadata": {
        "id": "pc-Zos0n7qiz"
      },
      "outputs": [],
      "source": [
        "a = [[x + y * 1000 for x in range(1000)] for y in range(1000)]\n",
        "\n"
      ]
    },
    {
      "cell_type": "markdown",
      "metadata": {
        "id": "kivTZdTQ7qi0"
      },
      "source": [
        "Instead of glossing over the first code example in the course, take your time, go back, and parse it out so you understand it. Test it out and see what it looks like. For example, how would you change the example to make a 10x10 array called `a2`? execute the code here:"
      ]
    },
    {
      "cell_type": "code",
      "execution_count": 12,
      "metadata": {
        "id": "NXpETlot7qi0"
      },
      "outputs": [],
      "source": [
        "# TO DO\n",
        "a2 = [[x + y * 10 for x in range(10)] for y in range(10)]"
      ]
    },
    {
      "cell_type": "markdown",
      "metadata": {
        "id": "tHvRTFDb7qi0"
      },
      "source": [
        "Now let's take a look at the value of a2:"
      ]
    },
    {
      "cell_type": "code",
      "execution_count": 13,
      "metadata": {
        "id": "G2twZF687qi0",
        "outputId": "ec266533-7558-4f34-d277-9c6f1f780a93",
        "colab": {
          "base_uri": "https://localhost:8080/"
        }
      },
      "outputs": [
        {
          "output_type": "execute_result",
          "data": {
            "text/plain": [
              "[[0, 1, 2, 3, 4, 5, 6, 7, 8, 9],\n",
              " [10, 11, 12, 13, 14, 15, 16, 17, 18, 19],\n",
              " [20, 21, 22, 23, 24, 25, 26, 27, 28, 29],\n",
              " [30, 31, 32, 33, 34, 35, 36, 37, 38, 39],\n",
              " [40, 41, 42, 43, 44, 45, 46, 47, 48, 49],\n",
              " [50, 51, 52, 53, 54, 55, 56, 57, 58, 59],\n",
              " [60, 61, 62, 63, 64, 65, 66, 67, 68, 69],\n",
              " [70, 71, 72, 73, 74, 75, 76, 77, 78, 79],\n",
              " [80, 81, 82, 83, 84, 85, 86, 87, 88, 89],\n",
              " [90, 91, 92, 93, 94, 95, 96, 97, 98, 99]]"
            ]
          },
          "metadata": {},
          "execution_count": 13
        }
      ],
      "source": [
        "a2"
      ]
    },
    {
      "cell_type": "markdown",
      "metadata": {
        "id": "FqrU1IZc7qi1"
      },
      "source": [
        "Now that we understand that line of code let's go on and write a function that will add 10 to each cell in our original 1000x1000 matrix.\n"
      ]
    },
    {
      "cell_type": "code",
      "execution_count": 14,
      "metadata": {
        "id": "T2kwA7Dg7qi1"
      },
      "outputs": [],
      "source": [
        "def addToArr(sizeof):\n",
        "    for i in range(sizeof):\n",
        "        for j in range(sizeof):\n",
        "            a[i][j] = a[i][j] + 10\n"
      ]
    },
    {
      "cell_type": "markdown",
      "metadata": {
        "id": "9KbmNFU77qi2"
      },
      "source": [
        "As you can see, we iterate over the array with nested for loops. \n",
        "\n",
        "Let's take a look at how much time it takes to run that function:"
      ]
    },
    {
      "cell_type": "code",
      "execution_count": 20,
      "metadata": {
        "id": "gvJ7a3ZA7qi2",
        "outputId": "15c4acae-117e-488c-f132-e64a6313bc1b",
        "colab": {
          "base_uri": "https://localhost:8080/"
        }
      },
      "outputs": [
        {
          "output_type": "stream",
          "name": "stdout",
          "text": [
            "CPU times: user 186 ms, sys: 0 ns, total: 186 ms\n",
            "Wall time: 187 ms\n"
          ]
        }
      ],
      "source": [
        "%time addToArr(1000)"
      ]
    },
    {
      "cell_type": "markdown",
      "metadata": {
        "id": "yGPHCaBV7qi2"
      },
      "source": [
        "My results were:\n",
        "\n",
        "    CPU times: user 145 ms, sys: 0 ns, total: 145 ms\n",
        "    Wall time: 143 ms\n",
        "\n",
        "So about 1/7 of a second. \n",
        "\n",
        "### Doing in using Numpy\n",
        "Now do the same using Numpy.\n",
        "\n",
        "\n",
        "We can construct the array using\n",
        "    \n",
        "    arr = np.arange(1000000).reshape((1000,1000))\n",
        "\n",
        "Not sure what that line does? Numpy has great online documentation. [Documentation for np.arange](https://numpy.org/doc/stable/reference/generated/numpy.arange.html) says it \"Return evenly spaced values within a given interval.\" Let's try it out:"
      ]
    },
    {
      "cell_type": "code",
      "execution_count": 21,
      "metadata": {
        "id": "CptCblVQ7qi2",
        "outputId": "d86a123e-ad89-4f62-a4b7-43e1c2f3fd90",
        "colab": {
          "base_uri": "https://localhost:8080/"
        }
      },
      "outputs": [
        {
          "output_type": "execute_result",
          "data": {
            "text/plain": [
              "array([ 0,  1,  2,  3,  4,  5,  6,  7,  8,  9, 10, 11, 12, 13, 14, 15])"
            ]
          },
          "metadata": {},
          "execution_count": 21
        }
      ],
      "source": [
        "import numpy as np\n",
        "np.arange(16)"
      ]
    },
    {
      "cell_type": "markdown",
      "metadata": {
        "id": "b7Lmxpjc7qi3"
      },
      "source": [
        "So `np.arange(10)` creates a matrix of 16 sequential integers. [The documentation for reshape](https://numpy.org/doc/1.18/reference/generated/numpy.reshape.html) says, as the name suggests, \"Gives a new shape to an array without changing its data.\"  Suppose we want to reshape our 1 dimensional matrix of 16 integers to a 4x4 one. we can do:"
      ]
    },
    {
      "cell_type": "code",
      "execution_count": 22,
      "metadata": {
        "id": "6_WZPGZn7qi3",
        "outputId": "bf2ba240-ae28-447c-f3ee-46e7cd31c988",
        "colab": {
          "base_uri": "https://localhost:8080/"
        }
      },
      "outputs": [
        {
          "output_type": "execute_result",
          "data": {
            "text/plain": [
              "array([[ 0,  1,  2,  3],\n",
              "       [ 4,  5,  6,  7],\n",
              "       [ 8,  9, 10, 11],\n",
              "       [12, 13, 14, 15]])"
            ]
          },
          "metadata": {},
          "execution_count": 22
        }
      ],
      "source": [
        "np.arange(16).reshape((4,4))"
      ]
    },
    {
      "cell_type": "markdown",
      "metadata": {
        "id": "P70fLLCK7qi3"
      },
      "source": [
        "As you can see it is pretty easy to find documentation on Numpy.\n",
        "\n",
        "Back to our example of creating a 1000x1000 matrix, we now can time how long it takes to add 10 to each cell.\n",
        "\n",
        "    %time arr = arr + 10\n",
        "    \n",
        "Let's put this all together:"
      ]
    },
    {
      "cell_type": "code",
      "execution_count": 23,
      "metadata": {
        "id": "GFX6Xnd27qi3",
        "outputId": "f2b91ae9-8d9f-4be7-a5e4-e5397f4a4819",
        "colab": {
          "base_uri": "https://localhost:8080/"
        }
      },
      "outputs": [
        {
          "output_type": "stream",
          "name": "stdout",
          "text": [
            "CPU times: user 2.86 ms, sys: 0 ns, total: 2.86 ms\n",
            "Wall time: 2.88 ms\n"
          ]
        }
      ],
      "source": [
        "import numpy as np\n",
        "arr = np.arange(1000000).reshape((1000,1000))\n",
        "%time arr = arr + 10"
      ]
    },
    {
      "cell_type": "markdown",
      "metadata": {
        "id": "Gl2Y24p47qi3"
      },
      "source": [
        "My results were\n",
        "\n",
        "    CPU times: user 1.26 ms, sys: 408 µs, total: 1.67 ms\n",
        "    Wall time: 1.68 ms\n",
        "\n",
        "So, depending on your computer, somewhere around 25 to 100 times faster. **That is phenomenally faster!**\n",
        "\n",
        "And Numpy is even fast in creating arrays:\n",
        "\n",
        "#### the generic Python way"
      ]
    },
    {
      "cell_type": "code",
      "execution_count": 24,
      "metadata": {
        "id": "Bsh3tZ087qi3",
        "outputId": "c423ad5e-83f5-4742-b64a-3348219ef5af",
        "colab": {
          "base_uri": "https://localhost:8080/"
        }
      },
      "outputs": [
        {
          "output_type": "stream",
          "name": "stdout",
          "text": [
            "CPU times: user 165 ms, sys: 25.1 ms, total: 190 ms\n",
            "Wall time: 196 ms\n"
          ]
        }
      ],
      "source": [
        "%time a = [[x + y * 1000 for x in range(1000)] for y in range(1000)]"
      ]
    },
    {
      "cell_type": "markdown",
      "metadata": {
        "id": "aeSkiqgM7qi4"
      },
      "source": [
        "My results were\n",
        "\n",
        "    CPU times: user 92.1 ms, sys: 11.5 ms, total: 104 ms\n",
        "    Wall time: 102 ms\n",
        "\n",
        "#### the Numpy way"
      ]
    },
    {
      "cell_type": "code",
      "execution_count": 25,
      "metadata": {
        "id": "EnyFfqUe7qi4",
        "outputId": "8d3b906f-04e2-46c3-9d01-b6a2f075c7ae",
        "colab": {
          "base_uri": "https://localhost:8080/"
        }
      },
      "outputs": [
        {
          "output_type": "stream",
          "name": "stdout",
          "text": [
            "CPU times: user 2.68 ms, sys: 4 ms, total: 6.68 ms\n",
            "Wall time: 6.8 ms\n"
          ]
        }
      ],
      "source": [
        "%time arr = np.arange(1000000).reshape((1000,1000))"
      ]
    },
    {
      "cell_type": "markdown",
      "metadata": {
        "id": "nHu12mL87qi4"
      },
      "source": [
        "What are your results?\n",
        "\n",
        "<h3 style=\"color:red\">Q1. Speed</h3>\n",
        "<span style=\"color:red\">Suppose I want to create an array with 10,000 by 10,000 cells. Then I want to add 1 to each cell. How much time does this take using generic Python arrays and using Numpy arrays?</span>\n",
        "\n",
        "#### in Python\n",
        "(be patient -- this may take a number of seconds)"
      ]
    },
    {
      "cell_type": "code",
      "execution_count": 30,
      "metadata": {
        "collapsed": true,
        "id": "u_MhqesK7qi4",
        "colab": {
          "base_uri": "https://localhost:8080/"
        },
        "outputId": "416ae206-245c-4462-9d3d-27bf23e44eee"
      },
      "outputs": [
        {
          "output_type": "stream",
          "name": "stdout",
          "text": [
            "CPU times: user 18.4 s, sys: 3.19 s, total: 21.6 s\n",
            "Wall time: 21.6 s\n"
          ]
        }
      ],
      "source": [
        "parr = [[x + y * 10000 for x in range(10000)] for y in range(10000)]\n",
        "def addToPArr(sizeof):\n",
        "    for i in range(sizeof):\n",
        "        for j in range(sizeof):\n",
        "            parr[i][j] = parr[i][j] + 1\n",
        "%time addToPArr(10000)"
      ]
    },
    {
      "cell_type": "markdown",
      "metadata": {
        "id": "Ygo7Ff6Q7qi4"
      },
      "source": [
        "#### in Numpy"
      ]
    },
    {
      "cell_type": "code",
      "execution_count": 42,
      "metadata": {
        "collapsed": true,
        "id": "q7uUUD0o7qi4",
        "colab": {
          "base_uri": "https://localhost:8080/"
        },
        "outputId": "40f364d9-7e69-4398-fb09-1e8caab1fc7e"
      },
      "outputs": [
        {
          "output_type": "stream",
          "name": "stdout",
          "text": [
            "CPU times: user 117 ms, sys: 1.71 s, total: 1.83 s\n",
            "Wall time: 1.85 s\n"
          ]
        }
      ],
      "source": [
        "narr = np.arange(100000000).reshape((10000,10000))\n",
        "%time narr = narr + 1\n"
      ]
    },
    {
      "cell_type": "markdown",
      "metadata": {
        "id": "PlqkM-Px7qi4"
      },
      "source": [
        "### built in functions\n",
        "In addition to being faster, numpy has a wide range of built in functions. So, for example, instead of you writing code to calculate the mean or sum or standard deviation of a multidimensional array you can just use numpy:"
      ]
    },
    {
      "cell_type": "code",
      "execution_count": 43,
      "metadata": {
        "id": "wHl4y9WD7qi4",
        "outputId": "b0498e97-399a-48f6-ef6b-a34b2ef42b05",
        "colab": {
          "base_uri": "https://localhost:8080/"
        }
      },
      "outputs": [
        {
          "output_type": "execute_result",
          "data": {
            "text/plain": [
              "499999.5"
            ]
          },
          "metadata": {},
          "execution_count": 43
        }
      ],
      "source": [
        "arr.mean()"
      ]
    },
    {
      "cell_type": "code",
      "execution_count": 44,
      "metadata": {
        "id": "RC9Kaw_C7qi5",
        "outputId": "27af555b-a833-4d6d-a6bc-8c555da19a28",
        "colab": {
          "base_uri": "https://localhost:8080/"
        }
      },
      "outputs": [
        {
          "output_type": "execute_result",
          "data": {
            "text/plain": [
              "499999500000"
            ]
          },
          "metadata": {},
          "execution_count": 44
        }
      ],
      "source": [
        "arr.sum()"
      ]
    },
    {
      "cell_type": "code",
      "execution_count": 45,
      "metadata": {
        "id": "ZzIStTla7qi5",
        "outputId": "6eeac5ba-3102-4dc5-ae63-3cd6ac3cb239",
        "colab": {
          "base_uri": "https://localhost:8080/"
        }
      },
      "outputs": [
        {
          "output_type": "execute_result",
          "data": {
            "text/plain": [
              "288675.1345946685"
            ]
          },
          "metadata": {},
          "execution_count": 45
        }
      ],
      "source": [
        " arr.std()"
      ]
    },
    {
      "cell_type": "markdown",
      "metadata": {
        "id": "QEcHP-Kf7qi5"
      },
      "source": [
        "So not only is it faster, but it minimizes the code you have to write. A win, win.\n",
        "\n",
        "Let's continue with some basics."
      ]
    },
    {
      "cell_type": "markdown",
      "metadata": {
        "id": "7w6zxbyk7qi5"
      },
      "source": [
        "## numpy examined \n",
        "So Numpy is a library containing a super-fast n-dimensional array object and a load of functions that can operate on those arrays. To use numpy, we must first load the library into our code and we do that with the statement:\n"
      ]
    },
    {
      "cell_type": "code",
      "execution_count": 46,
      "metadata": {
        "collapsed": true,
        "id": "0Q5CERmq7qi5"
      },
      "outputs": [],
      "source": [
        " import numpy as np"
      ]
    },
    {
      "cell_type": "markdown",
      "metadata": {
        "id": "lHi-SF177qi5"
      },
      "source": [
        "Perhaps most of you are saying \"fine, fine, I know this already\", but let me catch others up to speed. This is just one of several ways we can load a library into Python. We could just say:"
      ]
    },
    {
      "cell_type": "code",
      "execution_count": 47,
      "metadata": {
        "collapsed": true,
        "id": "rvKnLL--7qi5"
      },
      "outputs": [],
      "source": [
        " import numpy"
      ]
    },
    {
      "cell_type": "markdown",
      "metadata": {
        "id": "Cnw_0WQF7qi5"
      },
      "source": [
        "and everytime we need to use one of the functions built in\n",
        "to numpy we would need to preface that function with `numpy` . So for example, we could create an array with\n"
      ]
    },
    {
      "cell_type": "code",
      "execution_count": 48,
      "metadata": {
        "collapsed": true,
        "id": "iA5q9yQs7qi6"
      },
      "outputs": [],
      "source": [
        "arr = numpy.array([1, 2, 3, 4, 5])"
      ]
    },
    {
      "cell_type": "markdown",
      "metadata": {
        "id": "HytrS-ul7qi6"
      },
      "source": [
        "If we got tired of writing `numpy` in front of every function, instead of typing"
      ]
    },
    {
      "cell_type": "code",
      "execution_count": 49,
      "metadata": {
        "collapsed": true,
        "id": "Ba11E_jQ7qi6"
      },
      "outputs": [],
      "source": [
        "import numpy"
      ]
    },
    {
      "cell_type": "markdown",
      "metadata": {
        "id": "tU4_xCoy7qi6"
      },
      "source": [
        "we could write:"
      ]
    },
    {
      "cell_type": "code",
      "execution_count": 50,
      "metadata": {
        "collapsed": true,
        "id": "ItwLT0hb7qi6"
      },
      "outputs": [],
      "source": [
        "from numpy import *"
      ]
    },
    {
      "cell_type": "markdown",
      "metadata": {
        "id": "9tTnZ7hk7qi6"
      },
      "source": [
        "(where that * means 'everything' and the whole expression means import everything from the numpy library).  Now we can use any numpy function without putting numpy in front of it:"
      ]
    },
    {
      "cell_type": "code",
      "execution_count": null,
      "metadata": {
        "collapsed": true,
        "id": "Aaz80Bff7qi6"
      },
      "outputs": [],
      "source": [
        "arr = array([1, 2, 3, 4, 5])"
      ]
    },
    {
      "cell_type": "markdown",
      "metadata": {
        "id": "6f0ZexCd7qi6"
      },
      "source": [
        "This may at first seem like a good idea, but it is considered bad form by Python developers. \n",
        "\n",
        "The solution is to use what we initially introduced:"
      ]
    },
    {
      "cell_type": "code",
      "execution_count": 51,
      "metadata": {
        "collapsed": true,
        "id": "ckPHy1_P7qi6"
      },
      "outputs": [],
      "source": [
        " import numpy as np"
      ]
    },
    {
      "cell_type": "markdown",
      "metadata": {
        "id": "9wuo6-Md7qi6"
      },
      "source": [
        "this makes `np` an alias for numpy. so now we would put *np* in front of numpy functions."
      ]
    },
    {
      "cell_type": "code",
      "execution_count": 52,
      "metadata": {
        "collapsed": true,
        "id": "p3ozpN-a7qi6"
      },
      "outputs": [],
      "source": [
        " arr = np.array([1, 2, 3, 4, 5])"
      ]
    },
    {
      "cell_type": "markdown",
      "metadata": {
        "id": "RV12TPFP7qi7"
      },
      "source": [
        "Of course we could use anything as an alias for numpy:"
      ]
    },
    {
      "cell_type": "code",
      "execution_count": 53,
      "metadata": {
        "collapsed": true,
        "id": "xMq9Q9E-7qi7"
      },
      "outputs": [],
      "source": [
        "import numpy as myCoolSneakers\n",
        "arr = myCoolSneakers.array([1, 2, 3, 4, 5])\n"
      ]
    },
    {
      "cell_type": "markdown",
      "metadata": {
        "id": "O5sHMonW7qi7"
      },
      "source": [
        "But it is convention among data scientists, machine learning experts, and the cool kids to use np.  One big benefit of this convention is that it makes the code you write more understandable to others and vice versa (I don't need to be scouring your code to find out what `myCoolSneakers.array` does)\n",
        "\n",
        "## creating arrays\n",
        "\n",
        "An Array in Numpy is called an `ndarray` for n-dimensional array.  As we will see, they share some similarities with Python lists. We have already seen how to create one:"
      ]
    },
    {
      "cell_type": "code",
      "execution_count": 54,
      "metadata": {
        "collapsed": true,
        "id": "K0iONm4Z7qi7"
      },
      "outputs": [],
      "source": [
        "arr = np.array([1, 2, 3, 4, 5])"
      ]
    },
    {
      "cell_type": "markdown",
      "metadata": {
        "id": "MiyEiuTv7qi7"
      },
      "source": [
        "and to display what `arr` equals"
      ]
    },
    {
      "cell_type": "code",
      "execution_count": 55,
      "metadata": {
        "id": "CAbJk2tA7qi7",
        "outputId": "c59105db-22be-409c-e7db-420262e27c6f",
        "colab": {
          "base_uri": "https://localhost:8080/"
        }
      },
      "outputs": [
        {
          "output_type": "execute_result",
          "data": {
            "text/plain": [
              "array([1, 2, 3, 4, 5])"
            ]
          },
          "metadata": {},
          "execution_count": 55
        }
      ],
      "source": [
        "arr"
      ]
    },
    {
      "cell_type": "markdown",
      "metadata": {
        "id": "2NbjXYMQ7qi7"
      },
      "source": [
        "This is a one dimensional array. The position of an element in the array is called the index. The first element of the array is at index 0, the next at index 1 and so on. We can get the item at a particular index by using the syntax:"
      ]
    },
    {
      "cell_type": "code",
      "execution_count": 56,
      "metadata": {
        "id": "m6xOd7i17qi7",
        "outputId": "400a5906-c7cb-4383-d94d-8afa562b4cd3",
        "colab": {
          "base_uri": "https://localhost:8080/"
        }
      },
      "outputs": [
        {
          "output_type": "execute_result",
          "data": {
            "text/plain": [
              "1"
            ]
          },
          "metadata": {},
          "execution_count": 56
        }
      ],
      "source": [
        " arr[0]"
      ]
    },
    {
      "cell_type": "code",
      "execution_count": 57,
      "metadata": {
        "id": "kJuVm9lD7qi7",
        "outputId": "21f143a5-2082-4a08-d5e7-9a7b7d517fee",
        "colab": {
          "base_uri": "https://localhost:8080/"
        }
      },
      "outputs": [
        {
          "output_type": "execute_result",
          "data": {
            "text/plain": [
              "4"
            ]
          },
          "metadata": {},
          "execution_count": 57
        }
      ],
      "source": [
        "arr[3]"
      ]
    },
    {
      "cell_type": "markdown",
      "metadata": {
        "id": "V_apJKxx7qi7"
      },
      "source": [
        "We can create a 2 dimensional array that looks like\n",
        "\n",
        "      10  20  30\n",
        "      40  50  60\n",
        " \n",
        "by:\n"
      ]
    },
    {
      "cell_type": "code",
      "execution_count": 58,
      "metadata": {
        "collapsed": true,
        "id": "szOn5al77qi7"
      },
      "outputs": [],
      "source": [
        " arr = np.array([[10, 20, 30], [40, 50, 60]])"
      ]
    },
    {
      "cell_type": "markdown",
      "metadata": {
        "id": "55zj0nCR7qi7"
      },
      "source": [
        "and we can show the contents of that array just be using the name of the array, `arr`\n"
      ]
    },
    {
      "cell_type": "code",
      "execution_count": 59,
      "metadata": {
        "id": "MGws-pVX7qi7",
        "outputId": "ab681daa-be56-447c-9699-f6ce2f935330",
        "colab": {
          "base_uri": "https://localhost:8080/"
        }
      },
      "outputs": [
        {
          "output_type": "execute_result",
          "data": {
            "text/plain": [
              "array([[10, 20, 30],\n",
              "       [40, 50, 60]])"
            ]
          },
          "metadata": {},
          "execution_count": 59
        }
      ],
      "source": [
        "arr"
      ]
    },
    {
      "cell_type": "markdown",
      "metadata": {
        "id": "Q4gtSGPZ7qi8"
      },
      "source": [
        "We don't need to name arrays `arr`, we can name them anything we want. "
      ]
    },
    {
      "cell_type": "code",
      "execution_count": 60,
      "metadata": {
        "collapsed": true,
        "id": "ApccbizN7qi8"
      },
      "outputs": [],
      "source": [
        "ratings = np.array([[1, 2, 3], [4, 5, 6], [7, 8, 9]])"
      ]
    },
    {
      "cell_type": "code",
      "execution_count": 61,
      "metadata": {
        "id": "IoZCUk7u7qi8",
        "outputId": "2057cc7c-ed44-415e-87b3-ac84e3c6a4a4",
        "colab": {
          "base_uri": "https://localhost:8080/"
        }
      },
      "outputs": [
        {
          "output_type": "execute_result",
          "data": {
            "text/plain": [
              "array([[1, 2, 3],\n",
              "       [4, 5, 6],\n",
              "       [7, 8, 9]])"
            ]
          },
          "metadata": {},
          "execution_count": 61
        }
      ],
      "source": [
        "ratings"
      ]
    },
    {
      "cell_type": "markdown",
      "metadata": {
        "id": "RBkCGd8i7qi8"
      },
      "source": [
        "So far, we've been creating numpy arrays by using Python lists. We can make that more explicit by first creating the Python list and then using it to create the ndarray:"
      ]
    },
    {
      "cell_type": "code",
      "execution_count": 62,
      "metadata": {
        "id": "j_Fx66Cr7qi8",
        "outputId": "09977e3a-623d-417f-89e0-bec34cc277a2",
        "colab": {
          "base_uri": "https://localhost:8080/"
        }
      },
      "outputs": [
        {
          "output_type": "execute_result",
          "data": {
            "text/plain": [
              "array([[ 1,  2,  3,  4,  5],\n",
              "       [ 6,  7,  8,  9, 10]])"
            ]
          },
          "metadata": {},
          "execution_count": 62
        }
      ],
      "source": [
        "pythonArray = [[1, 2, 3, 4, 5], [6, 7, 8, 9, 10]]\n",
        "sweet = np.array(pythonArray)\n",
        "sweet"
      ]
    },
    {
      "cell_type": "markdown",
      "metadata": {
        "id": "N5o1GGQz7qi8"
      },
      "source": [
        "We can also create an array of all zeros or all ones directly:"
      ]
    },
    {
      "cell_type": "code",
      "execution_count": 63,
      "metadata": {
        "id": "cHxpfDlD7qi8",
        "outputId": "6183f7dc-b15c-445a-ef95-6d1f1f74be74",
        "colab": {
          "base_uri": "https://localhost:8080/"
        }
      },
      "outputs": [
        {
          "output_type": "execute_result",
          "data": {
            "text/plain": [
              "array([0., 0., 0., 0., 0., 0., 0., 0., 0., 0.])"
            ]
          },
          "metadata": {},
          "execution_count": 63
        }
      ],
      "source": [
        "np.zeros(10)"
      ]
    },
    {
      "cell_type": "code",
      "execution_count": 64,
      "metadata": {
        "id": "Taextyal7qi8",
        "outputId": "5ff0c2e4-f437-45aa-f5b4-f321ec82e9b5",
        "colab": {
          "base_uri": "https://localhost:8080/"
        }
      },
      "outputs": [
        {
          "output_type": "execute_result",
          "data": {
            "text/plain": [
              "array([[1., 1.],\n",
              "       [1., 1.],\n",
              "       [1., 1.],\n",
              "       [1., 1.],\n",
              "       [1., 1.]])"
            ]
          },
          "metadata": {},
          "execution_count": 64
        }
      ],
      "source": [
        "np.ones((5, 2))"
      ]
    },
    {
      "cell_type": "markdown",
      "metadata": {
        "id": "rllPZ1e-7qi8"
      },
      "source": [
        "### indexing\n",
        "Indexing elements in ndarrays works pretty much the same as it does in Python. We have already seen one example, here is another example with a one dimensional array:\n"
      ]
    },
    {
      "cell_type": "code",
      "execution_count": 65,
      "metadata": {
        "id": "YyXzbhHG7qi8",
        "outputId": "7c6c1ed0-42e1-4302-f823-c1f59b3bb7c8",
        "colab": {
          "base_uri": "https://localhost:8080/"
        }
      },
      "outputs": [
        {
          "output_type": "execute_result",
          "data": {
            "text/plain": [
              "48"
            ]
          },
          "metadata": {},
          "execution_count": 65
        }
      ],
      "source": [
        "temperatures = np.array([48, 44, 37, 35, 32, 29, 33, 36, 42])\n",
        "temperatures[0]"
      ]
    },
    {
      "cell_type": "code",
      "execution_count": 66,
      "metadata": {
        "id": "Xiq0NvDY7qi8",
        "outputId": "4dcc8a75-e48f-455d-ca70-16c930d304d6",
        "colab": {
          "base_uri": "https://localhost:8080/"
        }
      },
      "outputs": [
        {
          "output_type": "execute_result",
          "data": {
            "text/plain": [
              "35"
            ]
          },
          "metadata": {},
          "execution_count": 66
        }
      ],
      "source": [
        "temperatures[3]"
      ]
    },
    {
      "cell_type": "markdown",
      "metadata": {
        "id": "YYR1NVk97qi9"
      },
      "source": [
        "and a two dimensional one:"
      ]
    },
    {
      "cell_type": "code",
      "execution_count": 67,
      "metadata": {
        "id": "pLRR076B7qi9",
        "outputId": "5498464f-6c6b-42fc-8cea-739a46acc87c",
        "colab": {
          "base_uri": "https://localhost:8080/"
        }
      },
      "outputs": [
        {
          "output_type": "execute_result",
          "data": {
            "text/plain": [
              "20"
            ]
          },
          "metadata": {},
          "execution_count": 67
        }
      ],
      "source": [
        "sample = np.array([[10, 20, 30], [40, 50, 60]])\n",
        "sample[0][1]"
      ]
    },
    {
      "cell_type": "markdown",
      "metadata": {
        "id": "2rj1RUrS7qi9"
      },
      "source": [
        "For numpy ndarrays we can also use a comma to separate the indices of multi-dimensional arrays:"
      ]
    },
    {
      "cell_type": "code",
      "execution_count": 68,
      "metadata": {
        "id": "zFHDDKk87qi9",
        "outputId": "6f6a0bfe-10ef-45aa-ef12-5eb51ce1224e",
        "colab": {
          "base_uri": "https://localhost:8080/"
        }
      },
      "outputs": [
        {
          "output_type": "execute_result",
          "data": {
            "text/plain": [
              "60"
            ]
          },
          "metadata": {},
          "execution_count": 68
        }
      ],
      "source": [
        "sample[1,2]"
      ]
    },
    {
      "cell_type": "markdown",
      "metadata": {
        "id": "LK0XI_xl7qi9"
      },
      "source": [
        "And, like Python you can also get a slice of an array. First, here is the basic Python example:"
      ]
    },
    {
      "cell_type": "code",
      "execution_count": 69,
      "metadata": {
        "id": "pcH0hixn7qi9",
        "outputId": "02cc58b1-b04a-407b-d61b-dd74642fa841",
        "colab": {
          "base_uri": "https://localhost:8080/"
        }
      },
      "outputs": [
        {
          "output_type": "execute_result",
          "data": {
            "text/plain": [
              "[20, 30, 40]"
            ]
          },
          "metadata": {},
          "execution_count": 69
        }
      ],
      "source": [
        "a = [10, 20, 30, 40, 50, 60]\n",
        "b = a[1:4]\n",
        "b"
      ]
    },
    {
      "cell_type": "markdown",
      "metadata": {
        "id": "YkTutHnY7qi9"
      },
      "source": [
        "and the similar numpy example:"
      ]
    },
    {
      "cell_type": "code",
      "execution_count": 70,
      "metadata": {
        "id": "oMS9_q4E7qi9",
        "outputId": "8c0e089e-a383-4a51-dc75-0e39ad6e843f",
        "colab": {
          "base_uri": "https://localhost:8080/"
        }
      },
      "outputs": [
        {
          "output_type": "execute_result",
          "data": {
            "text/plain": [
              "array([20, 30, 40])"
            ]
          },
          "metadata": {},
          "execution_count": 70
        }
      ],
      "source": [
        "aarr = np.array(a)\n",
        "barr = aarr[1:4]\n",
        "barr"
      ]
    },
    {
      "cell_type": "markdown",
      "metadata": {
        "id": "Ca3ZUKff7qi9"
      },
      "source": [
        "### Something  wacky to remember\n",
        "But there is a difference between Python arrays and numpy ndarrays. If I alter the array `b` in Python the orginal `a` array is not altered:"
      ]
    },
    {
      "cell_type": "code",
      "execution_count": 71,
      "metadata": {
        "collapsed": true,
        "id": "b66YghRV7qi9"
      },
      "outputs": [],
      "source": [
        "b[1] = b[1] + 5"
      ]
    },
    {
      "cell_type": "code",
      "execution_count": 72,
      "metadata": {
        "id": "VbaHlpT_7qi9",
        "outputId": "f7cdffea-7dea-4bba-c284-1e8a3555dab8",
        "colab": {
          "base_uri": "https://localhost:8080/"
        }
      },
      "outputs": [
        {
          "output_type": "execute_result",
          "data": {
            "text/plain": [
              "[20, 35, 40]"
            ]
          },
          "metadata": {},
          "execution_count": 72
        }
      ],
      "source": [
        "b"
      ]
    },
    {
      "cell_type": "code",
      "execution_count": 73,
      "metadata": {
        "id": "tBi94v247qi-",
        "outputId": "12ec8353-921f-4862-b292-12306a91b4be",
        "colab": {
          "base_uri": "https://localhost:8080/"
        }
      },
      "outputs": [
        {
          "output_type": "execute_result",
          "data": {
            "text/plain": [
              "[10, 20, 30, 40, 50, 60]"
            ]
          },
          "metadata": {},
          "execution_count": 73
        }
      ],
      "source": [
        "a"
      ]
    },
    {
      "cell_type": "markdown",
      "metadata": {
        "id": "9ljRc4eF7qi-"
      },
      "source": [
        "but if we do the same in numpy:"
      ]
    },
    {
      "cell_type": "code",
      "execution_count": 74,
      "metadata": {
        "id": "FdqxB0T17qi-"
      },
      "outputs": [],
      "source": [
        "barr[1] = barr[1] + 5"
      ]
    },
    {
      "cell_type": "code",
      "execution_count": null,
      "metadata": {
        "id": "MKxdJTLd7qi-",
        "outputId": "b0c4b887-e3d9-460b-e708-6cb1c19475a3"
      },
      "outputs": [
        {
          "data": {
            "text/plain": [
              "array([20, 35, 40])"
            ]
          },
          "execution_count": 6,
          "metadata": {},
          "output_type": "execute_result"
        }
      ],
      "source": [
        "barr"
      ]
    },
    {
      "cell_type": "code",
      "execution_count": 75,
      "metadata": {
        "id": "rVVEuW077qi-",
        "outputId": "50794934-c3c8-48a3-9090-86e09c82f793",
        "colab": {
          "base_uri": "https://localhost:8080/"
        }
      },
      "outputs": [
        {
          "output_type": "execute_result",
          "data": {
            "text/plain": [
              "array([10, 20, 35, 40, 50, 60])"
            ]
          },
          "metadata": {},
          "execution_count": 75
        }
      ],
      "source": [
        "aarr"
      ]
    },
    {
      "cell_type": "markdown",
      "metadata": {
        "id": "wIyqH6UC7qi-"
      },
      "source": [
        "we see that the original array is altered since we modified the slice. This may seem wacky to you, or maybe it doesn't. In any case, it is something you will get used to. For now, just be aware of this. \n",
        "\n",
        "## functions on arrays\n",
        "\n",
        "Numpy has a wide range of array functons. Here is just a sample.\n",
        "\n",
        "### Unary functions\n",
        "\n",
        "#### absolute value"
      ]
    },
    {
      "cell_type": "code",
      "execution_count": 76,
      "metadata": {
        "id": "aMeHTbcf7qi-",
        "outputId": "cf9eca33-bafc-4639-db7a-92d6ebfa1a62",
        "colab": {
          "base_uri": "https://localhost:8080/"
        }
      },
      "outputs": [
        {
          "output_type": "execute_result",
          "data": {
            "text/plain": [
              "array([ 2, 12, 25,  0])"
            ]
          },
          "metadata": {},
          "execution_count": 76
        }
      ],
      "source": [
        "arr = np.array([-2, 12, -25, 0])\n",
        "arr2 = np.abs(arr)\n",
        "arr2"
      ]
    },
    {
      "cell_type": "code",
      "execution_count": 77,
      "metadata": {
        "id": "h0tlZ9oX7qi-",
        "outputId": "76f5ac28-d123-49c8-de52-93a75538e255",
        "colab": {
          "base_uri": "https://localhost:8080/"
        }
      },
      "outputs": [
        {
          "output_type": "execute_result",
          "data": {
            "text/plain": [
              "array([[ 2, 12],\n",
              "       [25,  0]])"
            ]
          },
          "metadata": {},
          "execution_count": 77
        }
      ],
      "source": [
        "arr = np.array([[-2, 12], [-25, 0]])\n",
        "arr2 = np.abs(arr)\n",
        "arr2               "
      ]
    },
    {
      "cell_type": "markdown",
      "metadata": {
        "id": "8m_6GJuy7qi-"
      },
      "source": [
        "#### square"
      ]
    },
    {
      "cell_type": "code",
      "execution_count": 78,
      "metadata": {
        "id": "KyvQRlzu7qi-",
        "outputId": "e61bd048-521f-4da5-c50a-6acf38368f0f",
        "colab": {
          "base_uri": "https://localhost:8080/"
        }
      },
      "outputs": [
        {
          "output_type": "execute_result",
          "data": {
            "text/plain": [
              "array([ 1,  4,  9, 16])"
            ]
          },
          "metadata": {},
          "execution_count": 78
        }
      ],
      "source": [
        "arr = np.array([-1, 2, -3, 4])\n",
        "arr2 = np.square(arr)\n",
        "arr2"
      ]
    },
    {
      "cell_type": "markdown",
      "metadata": {
        "id": "2lc3wwVp7qi-"
      },
      "source": [
        "#### squareroot"
      ]
    },
    {
      "cell_type": "code",
      "execution_count": 79,
      "metadata": {
        "id": "ksJG5AKu7qi-",
        "outputId": "2ab63a44-19a9-4d89-af91-101b55f42398",
        "colab": {
          "base_uri": "https://localhost:8080/"
        }
      },
      "outputs": [
        {
          "output_type": "execute_result",
          "data": {
            "text/plain": [
              "array([[2., 3.],\n",
              "       [4., 5.]])"
            ]
          },
          "metadata": {},
          "execution_count": 79
        }
      ],
      "source": [
        "arr = np.array([[4, 9], [16, 25]])\n",
        "arr2 = np.sqrt(arr)\n",
        "arr2"
      ]
    },
    {
      "cell_type": "markdown",
      "metadata": {
        "id": "l_q0EUaG7qi_"
      },
      "source": [
        "## Binary functions\n",
        "\n",
        "#### add /subtract / multiply / divide\n"
      ]
    },
    {
      "cell_type": "code",
      "execution_count": 84,
      "metadata": {
        "id": "FjSfwwFo7qi_",
        "outputId": "de9d2698-6b99-41c9-eb3a-b72563ce28a9",
        "colab": {
          "base_uri": "https://localhost:8080/"
        }
      },
      "outputs": [
        {
          "output_type": "execute_result",
          "data": {
            "text/plain": [
              "array([[11, 22],\n",
              "       [33, 44]])"
            ]
          },
          "metadata": {},
          "execution_count": 84
        }
      ],
      "source": [
        "arr1 = np.array([[10, 20], [30, 40]])\n",
        "arr2 = np.array([[1, 2], [3, 4]])\n",
        "np.add(arr1, arr2)"
      ]
    },
    {
      "cell_type": "code",
      "execution_count": 85,
      "metadata": {
        "id": "MooPqfjM7qi_",
        "outputId": "72db876c-4801-4b48-a715-ae8d9ef25689",
        "colab": {
          "base_uri": "https://localhost:8080/"
        }
      },
      "outputs": [
        {
          "output_type": "execute_result",
          "data": {
            "text/plain": [
              "array([[ 9, 18],\n",
              "       [27, 36]])"
            ]
          },
          "metadata": {},
          "execution_count": 85
        }
      ],
      "source": [
        "np.subtract(arr1, arr2)"
      ]
    },
    {
      "cell_type": "code",
      "execution_count": 86,
      "metadata": {
        "id": "5oOJvpeq7qi_",
        "outputId": "d9cfe8ed-f09c-4186-83b5-648b4e4b4b86",
        "colab": {
          "base_uri": "https://localhost:8080/"
        }
      },
      "outputs": [
        {
          "output_type": "execute_result",
          "data": {
            "text/plain": [
              "array([[ 10,  40],\n",
              "       [ 90, 160]])"
            ]
          },
          "metadata": {},
          "execution_count": 86
        }
      ],
      "source": [
        "np.multiply(arr1, arr2)"
      ]
    },
    {
      "cell_type": "code",
      "execution_count": 87,
      "metadata": {
        "id": "-_ygR5Mx7qi_",
        "outputId": "09a214b9-a1e3-4479-c3b4-8da3cefca27f",
        "colab": {
          "base_uri": "https://localhost:8080/"
        }
      },
      "outputs": [
        {
          "output_type": "execute_result",
          "data": {
            "text/plain": [
              "array([[10., 10.],\n",
              "       [10., 10.]])"
            ]
          },
          "metadata": {},
          "execution_count": 87
        }
      ],
      "source": [
        "np.divide(arr1, arr2)"
      ]
    },
    {
      "cell_type": "markdown",
      "metadata": {
        "id": "pBmw2jvI7qi_"
      },
      "source": [
        "#### maximum / minimum\n"
      ]
    },
    {
      "cell_type": "code",
      "execution_count": 88,
      "metadata": {
        "id": "cUnYrWva7qi_",
        "outputId": "2e2d3de7-25b3-46fe-c42d-67675e8be974",
        "colab": {
          "base_uri": "https://localhost:8080/"
        }
      },
      "outputs": [
        {
          "output_type": "execute_result",
          "data": {
            "text/plain": [
              "array([[10, 20],\n",
              "       [30, 40]])"
            ]
          },
          "metadata": {},
          "execution_count": 88
        }
      ],
      "source": [
        "arr1 = np.array([[10, 2], [3, 40]])\n",
        "arr2 = np.array([[1, 20], [30, 4]])\n",
        "np.maximum(arr1, arr2)"
      ]
    },
    {
      "cell_type": "markdown",
      "metadata": {
        "id": "Tv5yx8967qi_"
      },
      "source": [
        "#### these are just examples. There are more unary and binary functions"
      ]
    },
    {
      "cell_type": "markdown",
      "metadata": {
        "id": "Gj0K9I0X7qi_"
      },
      "source": [
        "## Numpy Uber\n",
        "lets say I have Uber drivers at various intersections around Austin. I will represent that as a set of x,y coordinates.\n",
        "\n",
        " | Driver |xPos | yPos |\n",
        " | :---: | :---: | :---: |\n",
        " | Ann | 4 | 5 |\n",
        " | Clara | 6 | 6 |\n",
        " | Dora | 3 | 1 |\n",
        " | Erica | 9 | 5 |\n",
        " \n",
        " \n",
        " Now I would like to find the closest driver to a customer who is at 6, 3.\n",
        " And to further define *closest* I am going to use what is called **Manhattan Distance**. Roughly put, Manhattan distance is distance if you followed streets. Ann, for example, is two blocks West of our customer and two blocks north. So the Manhattan distance from Ann to our customer is `2+2` or `4`. \n",
        " \n",
        " First, to make things easy (and because the data in a numpy array must be of the same type), I will represent the x and y positions in one numpy array and the driver names in another:"
      ]
    },
    {
      "cell_type": "code",
      "execution_count": 89,
      "metadata": {
        "id": "5s1Q2-IX7qi_",
        "outputId": "1c2808a8-8295-47fb-e0a7-53b3f414ecab",
        "colab": {
          "base_uri": "https://localhost:8080/"
        }
      },
      "outputs": [
        {
          "output_type": "execute_result",
          "data": {
            "text/plain": [
              "array([[4, 5],\n",
              "       [6, 6],\n",
              "       [3, 1],\n",
              "       [9, 5]])"
            ]
          },
          "metadata": {},
          "execution_count": 89
        }
      ],
      "source": [
        "locations = np.array([[4, 5], [6, 6], [3, 1], [9,5]])\n",
        "locations"
      ]
    },
    {
      "cell_type": "code",
      "execution_count": 90,
      "metadata": {
        "collapsed": true,
        "id": "YkgQyPPc7qi_"
      },
      "outputs": [],
      "source": [
        "drivers = np.array([\"Ann\", \"Clara\", \"Dora\", \"Erica\"])"
      ]
    },
    {
      "cell_type": "markdown",
      "metadata": {
        "id": "6DFcbRpD7qi_"
      },
      "source": [
        "Our customer is at"
      ]
    },
    {
      "cell_type": "code",
      "execution_count": 91,
      "metadata": {
        "collapsed": true,
        "id": "9Fjv-GDa7qjA"
      },
      "outputs": [],
      "source": [
        "cust = np.array([6, 3])"
      ]
    },
    {
      "cell_type": "markdown",
      "metadata": {
        "id": "Y-TKq6yg7qjA"
      },
      "source": [
        "now we are going to figure out the distance between each of our drivers and the customer"
      ]
    },
    {
      "cell_type": "code",
      "execution_count": 92,
      "metadata": {
        "id": "zhi8FLKQ7qjA",
        "outputId": "96c063d8-8117-4933-ac47-4681eca235d6",
        "colab": {
          "base_uri": "https://localhost:8080/"
        }
      },
      "outputs": [
        {
          "output_type": "execute_result",
          "data": {
            "text/plain": [
              "array([[-2,  2],\n",
              "       [ 0,  3],\n",
              "       [-3, -2],\n",
              "       [ 3,  2]])"
            ]
          },
          "metadata": {},
          "execution_count": 92
        }
      ],
      "source": [
        "xydiff = locations - cust\n",
        "xydiff"
      ]
    },
    {
      "cell_type": "markdown",
      "metadata": {
        "id": "LVlQF34n7qjA"
      },
      "source": [
        "NOTE: displaying the results with `xydiff` isn't a necessary step. I just like seeing intermediate results.\n",
        "\n",
        "Ok. now I am goint to sum the absolute values:"
      ]
    },
    {
      "cell_type": "code",
      "execution_count": 96,
      "metadata": {
        "id": "nZ0jDftB7qjA",
        "outputId": "030a462f-7270-4af1-e10f-40497dcde8e4",
        "colab": {
          "base_uri": "https://localhost:8080/"
        }
      },
      "outputs": [
        {
          "output_type": "execute_result",
          "data": {
            "text/plain": [
              "array([4, 3, 5, 5])"
            ]
          },
          "metadata": {},
          "execution_count": 96
        }
      ],
      "source": [
        "distances =np.abs(xydiff).sum(axis = 1)\n",
        "distances"
      ]
    },
    {
      "cell_type": "markdown",
      "metadata": {
        "id": "qKs1bP7U7qjA"
      },
      "source": [
        "So the output is the array `[4, 3, 5, 5]` which shows that Ann is 4 away from our customer; Clara is 3 away and so on.\n",
        "\n",
        "Now I am going to sort these using `argsort`:"
      ]
    },
    {
      "cell_type": "code",
      "execution_count": 97,
      "metadata": {
        "id": "SQVDDq957qjA",
        "outputId": "f51d1b42-a599-49bb-b95d-aabeb7db792e",
        "colab": {
          "base_uri": "https://localhost:8080/"
        }
      },
      "outputs": [
        {
          "output_type": "execute_result",
          "data": {
            "text/plain": [
              "array([1, 0, 2, 3])"
            ]
          },
          "metadata": {},
          "execution_count": 97
        }
      ],
      "source": [
        "sorted = np.argsort(distances)\n",
        "sorted"
      ]
    },
    {
      "cell_type": "markdown",
      "metadata": {
        "id": "yV9556MR7qjA"
      },
      "source": [
        "`argsort` returns an array of sorted indices. So the element at position 1 is the smallest followed by the element at position 0 and so on.\n",
        "\n",
        "Next, I am going to get the first element of that array (in this case 1) and find the name of the driver at that position in the `drivers` array"
      ]
    },
    {
      "cell_type": "code",
      "execution_count": 98,
      "metadata": {
        "id": "-4agNoZ97qjA",
        "outputId": "b4213e01-5156-4267-f573-832405cb54b5",
        "colab": {
          "base_uri": "https://localhost:8080/",
          "height": 57
        }
      },
      "outputs": [
        {
          "output_type": "execute_result",
          "data": {
            "text/plain": [
              "'Clara'"
            ],
            "application/vnd.google.colaboratory.intrinsic+json": {
              "type": "string"
            }
          },
          "metadata": {},
          "execution_count": 98
        }
      ],
      "source": [
        "drivers[sorted[0]]"
      ]
    },
    {
      "cell_type": "markdown",
      "metadata": {
        "id": "fUg3ccAM7qjA"
      },
      "source": [
        "<h3 style=\"color:red\">Q2. You Try</h3>\n",
        "<span style=\"color:red\">Can you put all the above in a function. that takes 3 arguments, the location array, the array containing the names of the drivers, and the array containing the location of the customer. It should return the name of the closest driver.</span>\n"
      ]
    },
    {
      "cell_type": "code",
      "execution_count": 100,
      "metadata": {
        "id": "dOgTHmxW7qjA",
        "outputId": "e12d6b48-289c-4860-b999-01b62fe8450e",
        "colab": {
          "base_uri": "https://localhost:8080/"
        }
      },
      "outputs": [
        {
          "output_type": "stream",
          "name": "stdout",
          "text": [
            "Clara\n"
          ]
        }
      ],
      "source": [
        "def findDriver(distanceArr, driversArr, customerArr):\n",
        "  diff = distanceArr - customerArr\n",
        "  diffsum = np.abs(diff).sum(axis=1)\n",
        "  sort = np.argsort(diffsum)\n",
        "  result = driversArr[sort[0]]\n",
        "  ### put your code here\n",
        "  return result\n",
        "print(findDriver(locations, drivers, cust)) # this should return Clara"
      ]
    },
    {
      "cell_type": "markdown",
      "metadata": {
        "id": "p8keiERN7qjA"
      },
      "source": [
        "### CONGRATULATIONS\n",
        "\n",
        "Even though this is just an intro to Numpy, I am going to throw some math at you. So far we have been looking at a two dimensional example, x and y (or North-South and East-West) and our distance formula for the distance, Dist between Ann, A and Customer C is\n",
        "\n",
        "$$ DIST_{AC} = |A_x - C_x | + |A_y - C_y | $$\n",
        "\n",
        "Now I am going to warp this a bit. In this example, each driver is represented by an array (as is the customer) So, Ann is represented by `[1,2]` and the customer by `[3,4]`. So Ann's 0th element is 1 and the customer's 0th element is 3. And, sorry, computer science people start counting at 0 but math people (and all other normal people) start at 1 so we  can rewrite the above formula as:\n",
        "\n",
        "$$ DIST_{AC} = |A_1 - C_1 | + |A_2 - C_2 | $$\n",
        "\n",
        "That's the distance formula for Ann and the Customer. We can make the formula by saying the distance between and two people, let's call them *x* and *y* is\n",
        "\n",
        "\n",
        "$$ DIST_{xy} = |x_1 - y_1 | + |x_2 - y_2 | $$\n",
        "\n",
        "That is the formula for  2 dimensional Manhattan Distance. We can imagine a three dimensional case.  \n",
        "\n",
        "$$ DIST_{xy} = |x_1 - y_1 | + |x_2 - y_2 | + |x_3 - y_3 | $$\n",
        "\n",
        "and we can generalize the formula to the n-dimensional case.\n",
        " \n",
        "$$ DIST_{xy}=\\sum_{i=1}^n |x_i - y_i| $$\n",
        "\n",
        "Just in time for a five dimensional example:\n",
        "\n",
        "\n",
        "# The Amazing 5D Music example\n",
        "\n",
        "Guests went into a listening booth and rated the following tunes:\n",
        "\n",
        "* [Janelle Monae Tightrope](https://www.youtube.com/watch?v=pwnefUaKCbc)\n",
        "* [Major Lazer - Cold Water](https://www.youtube.com/watch?v=nBtDsQ4fhXY)\n",
        "* [Tim McGraw - Humble & Kind](https://www.youtube.com/watch?v=awzNHuGqoMc)\n",
        "* [Maren Morris - My Church](https://www.youtube.com/watch?v=ouWQ25O-Mcg)\n",
        "* [Hailee Steinfeld - Starving](https://www.youtube.com/watch?v=xwjwCFZpdns)\n",
        "\n",
        "\n",
        "Here are the results:\n",
        "\n",
        "| Guest  | Janelle Monae  | Major Lazer  | Tim McGraw  |  Maren Morris | Hailee Steinfeld| \n",
        "|---|---|---|---|---|---|\n",
        "|  Ann | 4  |  5 | 2  |  1 | 3 |\n",
        "| Ben  |  3 |  1 |  5 | 4  | 2|\n",
        "| Jordyn  | 5  |  5 | 2  | 2  | 3|\n",
        "|  Sam | 4 | 1 | 4 | 4 | 1|\n",
        "| Hyunseo | 1 | 1 | 5 | 4 | 1 |\n",
        "| Ahmed | 4 | 5 | 3 |  3 | 1 |\n",
        "\n",
        "So Ann, for example, really liked Major Lazer and Janelle Monae but didn't care much for Maren Morris.\n",
        "\n",
        "Let's set up a few numpy arrays.\n"
      ]
    },
    {
      "cell_type": "code",
      "execution_count": 101,
      "metadata": {
        "id": "ZZJoTh0g7qjB"
      },
      "outputs": [],
      "source": [
        "customers = np.array([[4, 5, 2, 1, 3],\n",
        "                      [3, 1, 5, 4, 2],\n",
        "                      [5, 5, 2, 2, 3],\n",
        "                      [4, 1, 4, 4, 1], \n",
        "                      [1, 1, 5, 4, 1],\n",
        "                      [4, 5, 3, 3, 1]])\n",
        "\n",
        "customerNames = np.array([\"Ann\", \"Ben\", 'Jordyn', \"Sam\", \"Hyunseo\", \"Ahmed\"])\n",
        "\n"
      ]
    },
    {
      "cell_type": "markdown",
      "metadata": {
        "id": "CSWzxfYK7qjB"
      },
      "source": [
        "Now let's set up a few new customers:"
      ]
    },
    {
      "cell_type": "code",
      "execution_count": 102,
      "metadata": {
        "id": "87AjCQDP7qjB"
      },
      "outputs": [],
      "source": [
        "mikaela = np.array([3, 2, 4, 5, 4])\n",
        "brandon = np.array([4, 5, 1, 2, 3])"
      ]
    },
    {
      "cell_type": "markdown",
      "metadata": {
        "id": "7avkIQGG7qjB"
      },
      "source": [
        "Now we would like to determine  which of our current customers is closest to Mikaela and which to Brandon.\n",
        "<h3 style=\"color:red\">Q3. You Try</h3>\n",
        "<span style=\"color:red\">Can you write a function findClosest that takes 3 arguments: customers, customerNames, and an array representing one customer's ratings and returns the name of the closest customer?</span>\n",
        "\n",
        "Let's break this down a bit.\n",
        "\n",
        "1. Which line in the Numpy Uber section above will create a new array which is the result of subtracting the Mikaela array from each row of the customers array resulting in\n",
        "\n",
        "```\n",
        "array([[ 1,  3, -2, -4, -1],\n",
        "       [ 0, -1,  1, -1, -2],\n",
        "       [ 2,  3, -2, -3, -1],\n",
        "       [ 1, -1,  0, -1, -3],\n",
        "       [-2, -1,  1, -1, -3],\n",
        "       [ 1,  3, -1, -2, -3]])\n",
        "       ```\n"
      ]
    },
    {
      "cell_type": "code",
      "execution_count": 104,
      "metadata": {
        "id": "19UQLIlI7qjB",
        "outputId": "23ca252a-08f4-4d51-c963-52de6a75a6de",
        "colab": {
          "base_uri": "https://localhost:8080/"
        }
      },
      "outputs": [
        {
          "output_type": "execute_result",
          "data": {
            "text/plain": [
              "array([[ 1,  3, -2, -4, -1],\n",
              "       [ 0, -1,  1, -1, -2],\n",
              "       [ 2,  3, -2, -3, -1],\n",
              "       [ 1, -1,  0, -1, -3],\n",
              "       [-2, -1,  1, -1, -3],\n",
              "       [ 1,  3, -1, -2, -3]])"
            ]
          },
          "metadata": {},
          "execution_count": 104
        }
      ],
      "source": [
        "diffy = customers - mikaela\n",
        "diffy\n"
      ]
    },
    {
      "cell_type": "markdown",
      "metadata": {
        "id": "IjMxgwPL7qjB"
      },
      "source": [
        "2. Which line above will take the array you created and generate a single integer distance for each row representing how far away that row is from Mikaela?  The results will look like:\n",
        "\n",
        "```\n",
        "    array([11,  5, 11,  6,  8, 10])\n",
        "```"
      ]
    },
    {
      "cell_type": "code",
      "execution_count": 105,
      "metadata": {
        "id": "fGeXAdQS7qjB",
        "outputId": "f1bdc244-b072-4b72-83a5-637016fe14af",
        "colab": {
          "base_uri": "https://localhost:8080/"
        }
      },
      "outputs": [
        {
          "output_type": "execute_result",
          "data": {
            "text/plain": [
              "array([11,  5, 11,  6,  8, 10])"
            ]
          },
          "metadata": {},
          "execution_count": 105
        }
      ],
      "source": [
        "sum = abs(diffy).sum(axis=1)\n",
        "sum\n"
      ]
    },
    {
      "cell_type": "markdown",
      "metadata": {
        "id": "cI8wSTqb7qjB"
      },
      "source": [
        "Finally, we want a sorted array of indices, the zeroth element of that array will be the closest row to Mikaela, the next element will be the next closest and so on. The result should be\n",
        "\n",
        "```\n",
        "array([1, 3, 4, 5, 0, 2])\n",
        "```\n"
      ]
    },
    {
      "cell_type": "code",
      "execution_count": 106,
      "metadata": {
        "id": "e_oUbX1S7qjB",
        "outputId": "882c8a3d-7f32-4412-bea1-dc61a40bd848",
        "colab": {
          "base_uri": "https://localhost:8080/"
        }
      },
      "outputs": [
        {
          "output_type": "execute_result",
          "data": {
            "text/plain": [
              "array([1, 3, 4, 5, 0, 2])"
            ]
          },
          "metadata": {},
          "execution_count": 106
        }
      ],
      "source": [
        "sorts = np.argsort(sum)\n",
        "sorts\n"
      ]
    },
    {
      "cell_type": "markdown",
      "metadata": {
        "id": "6sMQFfP97qjB"
      },
      "source": [
        "Finally we need the name of the person that is the closest. "
      ]
    },
    {
      "cell_type": "code",
      "execution_count": 107,
      "metadata": {
        "id": "VYprOWO67qjB",
        "colab": {
          "base_uri": "https://localhost:8080/",
          "height": 57
        },
        "outputId": "9d4285d2-59af-44cf-e259-79b3bce144e5"
      },
      "outputs": [
        {
          "output_type": "execute_result",
          "data": {
            "text/plain": [
              "'Ben'"
            ],
            "application/vnd.google.colaboratory.intrinsic+json": {
              "type": "string"
            }
          },
          "metadata": {},
          "execution_count": 107
        }
      ],
      "source": [
        "customerNames[sorts[0]]"
      ]
    },
    {
      "cell_type": "markdown",
      "metadata": {
        "id": "pV63xtI37qjB"
      },
      "source": [
        "Okay, time to put it all together. Can you combine all the code you wrote above to finish the following function? So x is the new person and we want to find the closest customer to x."
      ]
    },
    {
      "cell_type": "code",
      "execution_count": 109,
      "metadata": {
        "id": "mufaKvcZ7qjC",
        "outputId": "57966e20-a891-4372-a4b7-3ac05ab1efdf",
        "colab": {
          "base_uri": "https://localhost:8080/"
        }
      },
      "outputs": [
        {
          "output_type": "stream",
          "name": "stdout",
          "text": [
            "Ben\n",
            "Ann\n"
          ]
        }
      ],
      "source": [
        "def findClosest(customers, customerNames, x):\n",
        "   diffy = customers - x\n",
        "   sum = np.abs(diffy).sum(axis=1)\n",
        "   sortss = np.argsort(sum)\n",
        "   return customerNames[sortss[0]]\n",
        "\n",
        "\n",
        "print(findClosest(customers, customerNames, mikaela)) # Should print Ben\n",
        "print(findClosest(customers, customerNames, brandon)) # Should print Ann"
      ]
    },
    {
      "cell_type": "markdown",
      "metadata": {
        "id": "uqXjw_1L7qjC"
      },
      "source": [
        "## Numpy Amazon\n",
        "\n",
        "We are going to start with the same array we did way up above:\n",
        "\n",
        " \n",
        " | Drone |xPos | yPos |\n",
        " | :---: | :---: | :---: |\n",
        " | wing_1a | 4 | 5 |\n",
        " | wing_2a | 6 | 6 |\n",
        " | wing_3a | 3 | 1 |\n",
        " | wing_4a | 9 | 5 |\n",
        " \n",
        " But this time, instead of Uber drivers, think of these as positions of [Alphabet's Wing delivery drones](https://wing.com/). \n",
        " Now we would like to find the closest drone to a customer who is at 7, 1.\n",
        " \n",
        "With the previous example we used Manhattan Distance.  With drones, we can compute the distance as the crow flies -- or Euclidean Distance.  We probably learned how to do this way back in 7th grade when we learned the Pythagorean Theorem which states:\n",
        "\n",
        "$$c^2 = a^2 + b^2$$\n",
        "\n",
        "Where *c* is the hypotenuse and *a* and *b* are the two other sides. So, if we want to find *c*:\n",
        "\n",
        "$$c = \\sqrt{a^2 + b^2}$$\n",
        "\n",
        "\n",
        "If we want to find the distance between the drone and a customer, *x* and *y* in the formula becomes\n",
        "\n",
        "$$Dist_{xy} = \\sqrt{(x_1-y_1)^2 + (x_2-y_2)^2}$$\n",
        "\n",
        "and for `wing_1a` who is at `[4,5]` and our customer who is at `[7,1]` then the formula becomes:\n",
        "\n",
        "$$Dist_{xy} = \\sqrt{(x_1-y_1)^2 + (x_2-y_2)^2} = \\sqrt{(4-7)^2 + (5-1)^2} =\\sqrt{-3^2 + 4^2}  = \\sqrt{9 + 16} = \\sqrt{25} = 5$$\n",
        "\n",
        "Sweet!  And to generalize this distance formula:\n",
        "\n",
        "$$Dist_{xy} = \\sqrt{(x_1-y_1)^2 + (x_2-y_2)^2}$$\n",
        "\n",
        "to n-dimensions:\n",
        "\n",
        "$$Dist_{xy} = \\sum_{i=1}^n{\\sqrt{(x_i-y_i)^2}}$$\n",
        "\n",
        "\n",
        "\n",
        "\n",
        "<h4 style=\"color:red\">Q4. You Try</h3>\n",
        "<span style=\"color:red\">Can you write a function euclidean that takes 3 arguments: droneLocation, droneNames, and an array representing one customer's position and returns the name of the closest drone?</span>\n",
        "\n",
        "First, a helpful hint:\n"
      ]
    },
    {
      "cell_type": "code",
      "execution_count": 110,
      "metadata": {
        "id": "28LiuYJx7qjC",
        "outputId": "bebe8c35-1f82-4d2f-f604-a8ba8c6007fb",
        "colab": {
          "base_uri": "https://localhost:8080/"
        }
      },
      "outputs": [
        {
          "output_type": "execute_result",
          "data": {
            "text/plain": [
              "array([ 1,  4,  9, 16])"
            ]
          },
          "metadata": {},
          "execution_count": 110
        }
      ],
      "source": [
        "arr = np.array([-1, 2, -3, 4])\n",
        "arr2 = np.square(arr)\n",
        "arr2"
      ]
    },
    {
      "cell_type": "code",
      "execution_count": 112,
      "metadata": {
        "id": "AA2xHIeo7qjC",
        "outputId": "524b09e5-61ac-4394-c169-19b450c72dab",
        "colab": {
          "base_uri": "https://localhost:8080/",
          "height": 57
        }
      },
      "outputs": [
        {
          "output_type": "execute_result",
          "data": {
            "text/plain": [
              "'wing_1a'"
            ],
            "application/vnd.google.colaboratory.intrinsic+json": {
              "type": "string"
            }
          },
          "metadata": {},
          "execution_count": 112
        }
      ],
      "source": [
        "locations = np.array([[4, 5], [6, 6], [3, 1], [9,5]])\n",
        "drivers = np.array([\"wing_1a\", \"wing_2a\", \"wing_3a\", \"wing_4a\"])\n",
        "cust = np.array([6, 3])\n",
        "\n",
        "def euclidean(droneLocation, droneNames, x):\n",
        "   diffy = droneLocation - x\n",
        "   sq = np.square(diffy)\n",
        "   sum = np.abs(sq).sum(axis=1)\n",
        "   sortedd = np.argsort(sum)\n",
        "   result = droneNames[sortedd[0]]\n",
        "   ### your code here   \n",
        "   return result\n",
        "euclidean(locations, drivers, cust) "
      ]
    },
    {
      "cell_type": "markdown",
      "metadata": {
        "id": "epeQwI9M7qjC"
      },
      "source": [
        "<h4 style=\"color:red\">Q5. You Try</h3>\n",
        "<span style=\"color:red\">try your code on the \"Amazing 5D Music example. Does it return the same person or a different one?\"</span>"
      ]
    },
    {
      "cell_type": "code",
      "execution_count": 122,
      "metadata": {
        "collapsed": true,
        "id": "aEq-gdVp7qjC",
        "colab": {
          "base_uri": "https://localhost:8080/"
        },
        "outputId": "3e878cc5-c3bd-475f-9edc-a3236207fc0b"
      },
      "outputs": [
        {
          "output_type": "stream",
          "name": "stdout",
          "text": [
            "Ben\n",
            "Ann\n"
          ]
        }
      ],
      "source": [
        "print(euclidean(customers, customerNames, mikaela))\n",
        "print(euclidean(customers, customerNames, brandon))"
      ]
    }
  ],
  "metadata": {
    "anaconda-cloud": {},
    "kernelspec": {
      "display_name": "Python 3",
      "language": "python",
      "name": "python3"
    },
    "language_info": {
      "codemirror_mode": {
        "name": "ipython",
        "version": 3
      },
      "file_extension": ".py",
      "mimetype": "text/x-python",
      "name": "python",
      "nbconvert_exporter": "python",
      "pygments_lexer": "ipython3",
      "version": "3.8.3"
    },
    "colab": {
      "name": "numpy1.ipynb",
      "provenance": [],
      "collapsed_sections": [
        "aeSkiqgM7qi4",
        "nHu12mL87qi4",
        "Ygo7Ff6Q7qi4",
        "PlqkM-Px7qi4",
        "wIyqH6UC7qi-",
        "8m_6GJuy7qi-",
        "2lc3wwVp7qi-",
        "l_q0EUaG7qi_",
        "pBmw2jvI7qi_",
        "Tv5yx8967qi_",
        "Gj0K9I0X7qi_",
        "p8keiERN7qjA",
        "uqXjw_1L7qjC"
      ],
      "include_colab_link": true
    }
  },
  "nbformat": 4,
  "nbformat_minor": 0
}